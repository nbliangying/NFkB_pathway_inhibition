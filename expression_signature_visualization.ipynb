{
 "cells": [
  {
   "cell_type": "code",
   "execution_count": 1,
   "metadata": {
    "collapsed": true
   },
   "outputs": [],
   "source": [
    "import pandas as pd\n",
    "import numpy as np\n",
    "import matplotlib.mlab as mlab\n",
    "import matplotlib.pyplot as plt\n",
    "import seaborn as sns"
   ]
  },
  {
   "cell_type": "markdown",
   "metadata": {},
   "source": [
    "___\n",
    "# Making NFkB Pathway Correlation Figure\n",
    "\n",
    "First we need to extract the actual gene expression signatures from our cpds and from the KDs of the genes in the NFkB pathway."
   ]
  },
  {
   "cell_type": "code",
   "execution_count": 2,
   "metadata": {
    "collapsed": true
   },
   "outputs": [],
   "source": [
    "# extract cpd signatures\n",
    "cpd_ids = ['BRD-K95352812','BRD-A09719808']\n",
    "consensi_df = pd.DataFrame.from_csv('data/consensi-pert_id.tsv', sep='\\t', header=0).T\n",
    "cpd_signatures = consensi_df[cpd_ids].copy()\n",
    "\n",
    "# extract KD signatures (from positively correlating genes)\n",
    "NFkB_KDs=['TRAF5','RIPK1','UBE2D1','UBB','UBC','TAB2','MAP3K7','RBCK1']\n",
    "KD_consensi_df = pd.DataFrame.from_csv('data/KD_consensus_sigs.csv', header=0).T\n",
    "KD_signatures = KD_consensi_df[NFkB_KDs].copy()"
   ]
  },
  {
   "cell_type": "code",
   "execution_count": 3,
   "metadata": {},
   "outputs": [],
   "source": [
    "# combine into single dataframe for convenience\n",
    "cpd_kd_sigs = pd.concat([cpd_signatures, KD_signatures], axis = 1)"
   ]
  },
  {
   "cell_type": "markdown",
   "metadata": {},
   "source": [
    "Currently the expression vectors are indexed by gene ID, which isn't very interpretable. Let's replace these IDs with the actual gene symbols for each expression value."
   ]
  },
  {
   "cell_type": "code",
   "execution_count": 6,
   "metadata": {},
   "outputs": [],
   "source": [
    "LINCS_gene_df = pd.DataFrame.from_csv('data/GSE92742_Broad_LINCS_gene_info.txt', sep='\\t', header=0)\n",
    "gene_mapping = LINCS_gene_df.loc[cpd_kd_sigs.index.astype(int)]['pr_gene_symbol']\n",
    "cpd_kd_sigs['gene'] = gene_mapping.values\n",
    "cpd_kd_sigs = cpd_kd_sigs.set_index('gene')"
   ]
  },
  {
   "cell_type": "markdown",
   "metadata": {},
   "source": [
    "Now lets filter our expression vectors to select expression levels of genes known to interact with TRAF2."
   ]
  },
  {
   "cell_type": "code",
   "execution_count": 7,
   "metadata": {},
   "outputs": [],
   "source": [
    "# extract TRAF2 interaction partners from Biogrid.\n",
    "Biogrid_df = pd.DataFrame.from_csv('data/BIOGRID-GENE-113038-3.4.153.tab2.txt', sep='\\t', header=0)\n",
    "TRAF2_partner_genes = set(Biogrid_df[['Official Symbol Interactor A','Official Symbol Interactor B']].values.flatten())\n",
    "\n",
    "# find out which partners are measured in LINCS signatures\n",
    "landmark_genes = set(gene_mapping.values)\n",
    "pathway_genes = list(TRAF2_partner_genes & landmark_genes)\n",
    "\n",
    "# refine expression vectors\n",
    "cpd_kd_filtered_sigs = cpd_kd_sigs.loc[pathway_genes].copy()"
   ]
  },
  {
   "cell_type": "markdown",
   "metadata": {},
   "source": [
    "Now we want to sort these genes by their average relative expression level "
   ]
  },
  {
   "cell_type": "code",
   "execution_count": 8,
   "metadata": {},
   "outputs": [
    {
     "data": {
      "text/html": [
       "<div>\n",
       "<style>\n",
       "    .dataframe thead tr:only-child th {\n",
       "        text-align: right;\n",
       "    }\n",
       "\n",
       "    .dataframe thead th {\n",
       "        text-align: left;\n",
       "    }\n",
       "\n",
       "    .dataframe tbody tr th {\n",
       "        vertical-align: top;\n",
       "    }\n",
       "</style>\n",
       "<table border=\"1\" class=\"dataframe\">\n",
       "  <thead>\n",
       "    <tr style=\"text-align: right;\">\n",
       "      <th>perturbagen</th>\n",
       "      <th>BRD-K95352812</th>\n",
       "      <th>BRD-A09719808</th>\n",
       "      <th>TRAF5</th>\n",
       "      <th>RIPK1</th>\n",
       "      <th>UBE2D1</th>\n",
       "      <th>UBB</th>\n",
       "      <th>UBC</th>\n",
       "      <th>TAB2</th>\n",
       "      <th>MAP3K7</th>\n",
       "      <th>RBCK1</th>\n",
       "      <th>mean</th>\n",
       "    </tr>\n",
       "    <tr>\n",
       "      <th>gene</th>\n",
       "      <th></th>\n",
       "      <th></th>\n",
       "      <th></th>\n",
       "      <th></th>\n",
       "      <th></th>\n",
       "      <th></th>\n",
       "      <th></th>\n",
       "      <th></th>\n",
       "      <th></th>\n",
       "      <th></th>\n",
       "      <th></th>\n",
       "    </tr>\n",
       "  </thead>\n",
       "  <tbody>\n",
       "    <tr>\n",
       "      <th>JUN</th>\n",
       "      <td>7.538</td>\n",
       "      <td>18.279</td>\n",
       "      <td>4.431</td>\n",
       "      <td>3.500</td>\n",
       "      <td>0.565</td>\n",
       "      <td>2.761</td>\n",
       "      <td>5.185</td>\n",
       "      <td>0.675</td>\n",
       "      <td>1.294</td>\n",
       "      <td>0.650</td>\n",
       "      <td>4.4878</td>\n",
       "    </tr>\n",
       "    <tr>\n",
       "      <th>ZFP36</th>\n",
       "      <td>9.760</td>\n",
       "      <td>11.376</td>\n",
       "      <td>2.897</td>\n",
       "      <td>3.394</td>\n",
       "      <td>2.130</td>\n",
       "      <td>3.755</td>\n",
       "      <td>2.053</td>\n",
       "      <td>2.022</td>\n",
       "      <td>4.315</td>\n",
       "      <td>0.162</td>\n",
       "      <td>4.1864</td>\n",
       "    </tr>\n",
       "    <tr>\n",
       "      <th>NFIL3</th>\n",
       "      <td>11.001</td>\n",
       "      <td>13.187</td>\n",
       "      <td>-0.889</td>\n",
       "      <td>1.141</td>\n",
       "      <td>0.350</td>\n",
       "      <td>1.687</td>\n",
       "      <td>2.772</td>\n",
       "      <td>3.095</td>\n",
       "      <td>2.978</td>\n",
       "      <td>-3.799</td>\n",
       "      <td>3.1523</td>\n",
       "    </tr>\n",
       "    <tr>\n",
       "      <th>PSMF1</th>\n",
       "      <td>2.029</td>\n",
       "      <td>1.935</td>\n",
       "      <td>3.086</td>\n",
       "      <td>3.468</td>\n",
       "      <td>0.597</td>\n",
       "      <td>3.967</td>\n",
       "      <td>3.524</td>\n",
       "      <td>3.473</td>\n",
       "      <td>1.458</td>\n",
       "      <td>2.464</td>\n",
       "      <td>2.6001</td>\n",
       "    </tr>\n",
       "    <tr>\n",
       "      <th>DNAJB2</th>\n",
       "      <td>5.865</td>\n",
       "      <td>7.583</td>\n",
       "      <td>1.772</td>\n",
       "      <td>-1.081</td>\n",
       "      <td>3.678</td>\n",
       "      <td>-1.520</td>\n",
       "      <td>1.626</td>\n",
       "      <td>1.758</td>\n",
       "      <td>0.752</td>\n",
       "      <td>1.486</td>\n",
       "      <td>2.1919</td>\n",
       "    </tr>\n",
       "  </tbody>\n",
       "</table>\n",
       "</div>"
      ],
      "text/plain": [
       "perturbagen  BRD-K95352812  BRD-A09719808  TRAF5  RIPK1  UBE2D1    UBB    UBC  \\\n",
       "gene                                                                            \n",
       "JUN                  7.538         18.279  4.431  3.500   0.565  2.761  5.185   \n",
       "ZFP36                9.760         11.376  2.897  3.394   2.130  3.755  2.053   \n",
       "NFIL3               11.001         13.187 -0.889  1.141   0.350  1.687  2.772   \n",
       "PSMF1                2.029          1.935  3.086  3.468   0.597  3.967  3.524   \n",
       "DNAJB2               5.865          7.583  1.772 -1.081   3.678 -1.520  1.626   \n",
       "\n",
       "perturbagen   TAB2  MAP3K7  RBCK1    mean  \n",
       "gene                                       \n",
       "JUN          0.675   1.294  0.650  4.4878  \n",
       "ZFP36        2.022   4.315  0.162  4.1864  \n",
       "NFIL3        3.095   2.978 -3.799  3.1523  \n",
       "PSMF1        3.473   1.458  2.464  2.6001  \n",
       "DNAJB2       1.758   0.752  1.486  2.1919  "
      ]
     },
     "execution_count": 8,
     "metadata": {},
     "output_type": "execute_result"
    }
   ],
   "source": [
    "cpd_kd_filtered_sigs['mean'] = np.mean(cpd_kd_filtered_sigs, axis=1)\n",
    "cpd_kd_filtered_sigs.sort_values('mean', ascending=False, inplace=True)\n",
    "cpd_kd_filtered_sigs.head()"
   ]
  },
  {
   "cell_type": "markdown",
   "metadata": {},
   "source": [
    "___\n",
    "# Now we want to make the figure"
   ]
  },
  {
   "cell_type": "code",
   "execution_count": 45,
   "metadata": {},
   "outputs": [
    {
     "data": {
      "image/png": "[encoded data removed]",
      "text/plain": [
       "<matplotlib.figure.Figure at 0x1181be9b0>"
      ]
     },
     "metadata": {},
     "output_type": "display_data"
    }
   ],
   "source": [
    "# setup figure\n",
    "sns.set(style=\"white\", context=\"talk\")\n",
    "f, (ax1, ax2, ax3, ax4, ax6, ax7, ax8, ax9,) = plt.subplots(8, 1, figsize=(10, 10), sharex=True)\n",
    "\n",
    "# extract the data\n",
    "x = cpd_kd_filtered_sigs.index.values\n",
    "[y1,y2,y3,y4,y5,y6,y7,y8,y9,y10] = cpd_kd_filtered_sigs.iloc[:,0:10].T.values\n",
    "\n",
    "# plot the data\n",
    "sns.barplot(x, y1, color=sns.xkcd_rgb[\"pale red\"], ax=ax1)\n",
    "sns.barplot(x, y2, color=sns.xkcd_rgb[\"slate grey\"], ax=ax2)\n",
    "sns.barplot(x, y3, color=sns.xkcd_rgb[\"jade\"], ax=ax3)\n",
    "sns.barplot(x, y4, color=sns.xkcd_rgb[\"russet\"], ax=ax4)\n",
    "#sns.barplot(x, y5, color=sns.xkcd_rgb[\"cerulean blue\"], ax=ax5)\n",
    "sns.barplot(x, y6, color=sns.xkcd_rgb[\"pumpkin orange\"], ax=ax6)\n",
    "sns.barplot(x, y7, color=sns.xkcd_rgb[\"dark navy\"], ax=ax7)\n",
    "sns.barplot(x, y8, color=sns.xkcd_rgb[\"off green\"], ax=ax8)\n",
    "sns.barplot(x, y9, color=sns.xkcd_rgb[\"blueberry\"], ax=ax9)\n",
    "#sns.barplot(x, y10, color=sns.xkcd_rgb[\"tomato\"], ax=ax10)\n",
    "\n",
    "# label the subplots\n",
    "ax1.set_ylabel(\"Cpd 2\")\n",
    "ax2.set_ylabel(\"Cpd 5\")\n",
    "ax3.set_ylabel(\"TRAF5\")\n",
    "ax4.set_ylabel(\"RIPK1\")\n",
    "#ax5.set_ylabel(\"UBE2D1\")\n",
    "ax6.set_ylabel(\"UBB\")\n",
    "ax7.set_ylabel(\"UBC\")\n",
    "ax8.set_ylabel(\"TAB2\")\n",
    "ax9.set_ylabel(\"MAP3K7\")\n",
    "#ax10.set_ylabel(\"RBCK1\")\n",
    "\n",
    "sns.despine(bottom=True)\n",
    "plt.xticks(rotation='vertical')\n",
    "plt.setp(f.axes, yticks=[])\n",
    "plt.tight_layout(h_pad=0)\n",
    "plt.show()"
   ]
  },
  {
   "cell_type": "code",
   "execution_count": null,
   "metadata": {},
   "outputs": [],
   "source": []
  },
  {
   "cell_type": "code",
   "execution_count": null,
   "metadata": {},
   "outputs": [],
   "source": []
  },
  {
   "cell_type": "code",
   "execution_count": null,
   "metadata": {
    "collapsed": true
   },
   "outputs": [],
   "source": []
  }
 ],
 "metadata": {
  "kernelspec": {
   "display_name": "Python 3",
   "language": "python",
   "name": "python3"
  },
  "language_info": {
   "codemirror_mode": {
    "name": "ipython",
    "version": 3
   },
   "file_extension": ".py",
   "mimetype": "text/x-python",
   "name": "python",
   "nbconvert_exporter": "python",
   "pygments_lexer": "ipython3",
   "version": "3.6.1"
  }
 },
 "nbformat": 4,
 "nbformat_minor": 2
}
